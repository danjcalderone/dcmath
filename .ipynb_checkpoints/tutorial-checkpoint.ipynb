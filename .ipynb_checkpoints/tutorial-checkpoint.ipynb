{
 "cells": [
  {
   "cell_type": "code",
   "execution_count": 8,
   "metadata": {},
   "outputs": [],
   "source": [
    "%matplotlib widget\n",
    "import numpy as np\n",
    "import matplotlib.pyplot as plt\n",
    "import numpy.linalg as mat\n",
    "import scipy.linalg as smat\n",
    "\n",
    "from ipywidgets import *\n",
    "from matplotlib import animation\n",
    "from matplotlib.patches import Polygon\n",
    "\n",
    "def friends(name,number):\n",
    "    return '{} has {} friends!'.format(name,number)\n",
    "\n",
    "\n",
    "arml = 2; armw = 0.4; depth = 0.05; rrad = 0.8;\n",
    "shape = np.array([[ arml,0.5*armw],[0.5*armw,0.5*armw],[0.5*armw,arml],[-0.5*armw,arml],[-0.5*armw,0.5*armw],\n",
    "                  [-arml,0.5*armw],[-arml,-0.5*armw],[-0.5*armw,-0.5*armw],[-0.5*armw,-arml],[0.5*armw,-arml],\n",
    "                  [0.5*armw,-0.5*armw],[arml,-0.5*armw]]);\n",
    "\n",
    "quad_frame = [np.vstack([shape.T,depth*np.ones(np.size(shape,0))]).T,\n",
    "              np.vstack([shape.T,-depth*np.ones(np.size(shape,0))]).T];\n",
    "\n",
    "#               np.array([[arml,-0.5*armw,depth],[arml,0.5*armw,depth],[arml,0.5*armw,-depth],[arml,-0.5*armw,-depth]]),\n",
    "#               np.array([[-arml,-0.5*armw,depth],[-arml,0.5*armw,depth],[-arml,0.5*armw,-depth],[-arml,-0.5*armw,-depth]]),              \n",
    "#               np.array([[0.5*armw,arml,depth],[-0.5*armw,arml,depth],[-0.5*armw,arml,-depth],[0.5*armw,arml,-depth]]),\n",
    "#               np.array([[0.5*armw,-arml,depth],[-0.5*armw,-arml,depth],[-0.5*armw,-arml,-depth],[0.5*armw,-arml,-depth]])];\n",
    "\n",
    "# ROTORS...\n",
    "thetas = np.linspace(0,2*np.pi,10);\n",
    "rotor = rrad*np.einsum('ij,kj',np.eye(2),np.array([[np.cos(theta),np.sin(theta)] for theta in thetas])).T;\n",
    "rotor = np.vstack([rotor.T,1.2*depth*np.ones(np.size(rotor,0))]).T;\n",
    "#print(rotor)\n",
    "\n",
    "perc = 0.9; rdepth = 0.05;\n",
    "quad_attach = [np.array([perc*arml,0  ,1.*depth]),\n",
    "               np.array([0,perc*arml  ,1.*depth]),\n",
    "               np.array([-perc*arml,0 ,1.*depth]),\n",
    "               np.array([0,-perc*arml ,1.*depth])];\n",
    "\n",
    "quad_rotors = [rotor + np.outer(np.ones(np.size(rotor,0)),quad_attach[0]),\n",
    "               rotor + np.outer(np.ones(np.size(rotor,0)),quad_attach[1]),\n",
    "               rotor + np.outer(np.ones(np.size(rotor,0)),quad_attach[2]),\n",
    "               rotor + np.outer(np.ones(np.size(rotor,0)),quad_attach[3])]\n",
    "#                rotor + np.outer(np.ones(np.size(rotor,0)),quad_attach[0]+np.array([0,0,rdepth])),\n",
    "#                rotor + np.outer(np.ones(np.size(rotor,0)),quad_attach[1]+np.array([0,0,rdepth])),\n",
    "#                rotor + np.outer(np.ones(np.size(rotor,0)),quad_attach[2]+np.array([0,0,rdepth])),\n",
    "#                rotor + np.outer(np.ones(np.size(rotor,0)),quad_attach[3]+np.array([0,0,rdepth])),]\n",
    "\n",
    "shaft = 0.2\n",
    "quad_centers = [shaft*rotor + np.outer(np.ones(np.size(rotor,0)),quad_attach[0]),\n",
    "                shaft*rotor + np.outer(np.ones(np.size(rotor,0)),quad_attach[1]),\n",
    "                shaft*rotor + np.outer(np.ones(np.size(rotor,0)),quad_attach[2]),\n",
    "                shaft*rotor + np.outer(np.ones(np.size(rotor,0)),quad_attach[3])];\n",
    "#                 shaft*rotor + np.outer(np.ones(np.size(rotor,0)),quad_attach[0]+np.array([0,0,rdepth])),\n",
    "#                 shaft*rotor + np.outer(np.ones(np.size(rotor,0)),quad_attach[1]+np.array([0,0,rdepth])),\n",
    "#                 shaft*rotor + np.outer(np.ones(np.size(rotor,0)),quad_attach[2]+np.array([0,0,rdepth])),\n",
    "#                 shaft*rotor + np.outer(np.ones(np.size(rotor,0)),quad_attach[3]+np.array([0,0,rdepth])),]\n",
    "\n",
    "\n",
    "quad_shapes = [quad_frame,quad_rotors,quad_centers];\n",
    "\n",
    "\n",
    "# FUNCTION TO \n",
    "def draw_quad(quad_shapes,AXES3D,loc=np.zeros(3),R=np.eye(3),size=1):\n",
    "    \n",
    "    for j in range(len(quad_shapes)):\n",
    "        shapes = quad_shapes[j];\n",
    "        for i in range(len(shapes)):\n",
    "            pts = size*shapes[i];\n",
    "            pts = np.dot(pts,R.T);\n",
    "            pts = pts + np.outer(np.ones(np.size(pts,0)),loc);\n",
    "            pts = np.dot(pts,AXES3D);\n",
    "            ax.add_patch(Polygon(list(pts),closed=True,facecolor='grey',\n",
    "                            linestyle='-',edgecolor='black',linewidth=2,alpha=.5,fill=True,zorder=10));\n",
    "            \n",
    "            \n",
    "#### CONSTRUCTING BACKGROUND OBJECTS....\n",
    "#### CONSTRUCTING BACKGROUND OBJECTS....\n",
    "#### CONSTRUCTING BACKGROUND OBJECTS....\n",
    "#### CONSTRUCTING BACKGROUND OBJECTS....\n",
    "\n"
   ]
  },
  {
   "cell_type": "code",
   "execution_count": 9,
   "metadata": {},
   "outputs": [
    {
     "data": {
      "application/vnd.jupyter.widget-view+json": {
       "model_id": "589f5335de194b9987d2f44ac4969691",
       "version_major": 2,
       "version_minor": 0
      },
      "text/plain": [
       "interactive(children=(Text(value='Dan', description='name'), IntSlider(value=7, description='number', max=10, …"
      ]
     },
     "metadata": {},
     "output_type": "display_data"
    }
   ],
   "source": [
    "interact(friends, name='Dan',number=(5,10));"
   ]
  },
  {
   "cell_type": "code",
   "execution_count": null,
   "metadata": {},
   "outputs": [],
   "source": []
  }
 ],
 "metadata": {
  "kernelspec": {
   "display_name": "Python 3",
   "language": "python",
   "name": "python3"
  },
  "language_info": {
   "codemirror_mode": {
    "name": "ipython",
    "version": 3
   },
   "file_extension": ".py",
   "mimetype": "text/x-python",
   "name": "python",
   "nbconvert_exporter": "python",
   "pygments_lexer": "ipython3",
   "version": "3.6.8"
  }
 },
 "nbformat": 4,
 "nbformat_minor": 2
}
